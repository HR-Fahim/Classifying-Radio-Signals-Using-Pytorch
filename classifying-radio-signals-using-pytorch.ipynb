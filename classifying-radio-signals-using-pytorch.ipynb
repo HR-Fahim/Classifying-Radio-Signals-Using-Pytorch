{
 "cells": [
  {
   "cell_type": "code",
   "execution_count": 1,
   "id": "ef7dbaed",
   "metadata": {
    "_cell_guid": "b1076dfc-b9ad-4769-8c92-a6c4dae69d19",
    "_uuid": "8f2839f25d086af736a60e9eeb907d3b93b6e0e5",
    "execution": {
     "iopub.execute_input": "2023-08-16T01:21:32.888459Z",
     "iopub.status.busy": "2023-08-16T01:21:32.887702Z",
     "iopub.status.idle": "2023-08-16T01:21:32.916195Z",
     "shell.execute_reply": "2023-08-16T01:21:32.915004Z"
    },
    "papermill": {
     "duration": 0.03593,
     "end_time": "2023-08-16T01:21:32.919435",
     "exception": false,
     "start_time": "2023-08-16T01:21:32.883505",
     "status": "completed"
    },
    "tags": []
   },
   "outputs": [
    {
     "name": "stdout",
     "output_type": "stream",
     "text": [
      "/kaggle/input/classifying-seti-data-from-radio-signals/Project/spec_augment.py\n",
      "/kaggle/input/classifying-seti-data-from-radio-signals/Project/Guided Project - Classify Radio Signals using PyTorch.ipynb\n",
      "/kaggle/input/classifying-seti-data-from-radio-signals/Project/valid.csv\n",
      "/kaggle/input/classifying-seti-data-from-radio-signals/Project/image6.png\n",
      "/kaggle/input/classifying-seti-data-from-radio-signals/Project/utils.py\n",
      "/kaggle/input/classifying-seti-data-from-radio-signals/Project/Untitled-design.png\n",
      "/kaggle/input/classifying-seti-data-from-radio-signals/Project/train.csv\n",
      "/kaggle/input/classifying-seti-data-from-radio-signals/Project/sparse_image_warp.py\n"
     ]
    }
   ],
   "source": [
    "# This Python 3 environment comes with many helpful analytics libraries installed\n",
    "# It is defined by the kaggle/python Docker image: https://github.com/kaggle/docker-python\n",
    "# For example, here's several helpful packages to load\n",
    "\n",
    "import numpy as np # linear algebra\n",
    "import pandas as pd # data processing, CSV file I/O (e.g. pd.read_csv)\n",
    "\n",
    "# Input data files are available in the read-only \"../input/\" directory\n",
    "# For example, running this (by clicking run or pressing Shift+Enter) will list all files under the input directory\n",
    "\n",
    "import os\n",
    "for dirname, _, filenames in os.walk('/kaggle/input'):\n",
    "    for filename in filenames:\n",
    "        print(os.path.join(dirname, filename))\n",
    "\n",
    "# You can write up to 20GB to the current directory (/kaggle/working/) that gets preserved as output when you create a version using \"Save & Run All\" \n",
    "# You can also write temporary files to /kaggle/temp/, but they won't be saved outside of the current session"
   ]
  },
  {
   "cell_type": "code",
   "execution_count": 2,
   "id": "ab4e5144",
   "metadata": {
    "execution": {
     "iopub.execute_input": "2023-08-16T01:21:32.925930Z",
     "iopub.status.busy": "2023-08-16T01:21:32.924951Z",
     "iopub.status.idle": "2023-08-16T01:21:38.390216Z",
     "shell.execute_reply": "2023-08-16T01:21:38.388928Z"
    },
    "papermill": {
     "duration": 5.471348,
     "end_time": "2023-08-16T01:21:38.393077",
     "exception": false,
     "start_time": "2023-08-16T01:21:32.921729",
     "status": "completed"
    },
    "tags": []
   },
   "outputs": [],
   "source": [
    "# Import necessary libraries\n",
    "import numpy as np\n",
    "import pandas as pd\n",
    "import matplotlib.pyplot as plt\n",
    "\n",
    "# Import PyTorch and related modules\n",
    "import torch\n",
    "from torch import nn, optim\n",
    "from torch.utils.data import Dataset, DataLoader\n",
    "\n",
    "# Import torchvision transformations\n",
    "from torchvision import transforms as T\n",
    "\n",
    "# Import a popular image model library\n",
    "import timm"
   ]
  }
 ],
 "metadata": {
  "kernelspec": {
   "display_name": "Python 3",
   "language": "python",
   "name": "python3"
  },
  "language_info": {
   "codemirror_mode": {
    "name": "ipython",
    "version": 3
   },
   "file_extension": ".py",
   "mimetype": "text/x-python",
   "name": "python",
   "nbconvert_exporter": "python",
   "pygments_lexer": "ipython3",
   "version": "3.10.12"
  },
  "papermill": {
   "default_parameters": {},
   "duration": 19.735465,
   "end_time": "2023-08-16T01:21:40.918352",
   "environment_variables": {},
   "exception": null,
   "input_path": "__notebook__.ipynb",
   "output_path": "__notebook__.ipynb",
   "parameters": {},
   "start_time": "2023-08-16T01:21:21.182887",
   "version": "2.4.0"
  }
 },
 "nbformat": 4,
 "nbformat_minor": 5
}
