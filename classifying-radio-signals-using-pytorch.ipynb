{
 "cells": [
  {
   "cell_type": "code",
   "execution_count": 1,
   "id": "bfeedd8b",
   "metadata": {
    "_cell_guid": "b1076dfc-b9ad-4769-8c92-a6c4dae69d19",
    "_uuid": "8f2839f25d086af736a60e9eeb907d3b93b6e0e5",
    "execution": {
     "iopub.execute_input": "2023-08-16T01:29:10.076566Z",
     "iopub.status.busy": "2023-08-16T01:29:10.076038Z",
     "iopub.status.idle": "2023-08-16T01:29:10.110984Z",
     "shell.execute_reply": "2023-08-16T01:29:10.109384Z"
    },
    "papermill": {
     "duration": 0.043225,
     "end_time": "2023-08-16T01:29:10.114400",
     "exception": false,
     "start_time": "2023-08-16T01:29:10.071175",
     "status": "completed"
    },
    "tags": []
   },
   "outputs": [
    {
     "name": "stdout",
     "output_type": "stream",
     "text": [
      "/kaggle/input/classifying-seti-data-from-radio-signals/Project/spec_augment.py\n",
      "/kaggle/input/classifying-seti-data-from-radio-signals/Project/Guided Project - Classify Radio Signals using PyTorch.ipynb\n",
      "/kaggle/input/classifying-seti-data-from-radio-signals/Project/valid.csv\n",
      "/kaggle/input/classifying-seti-data-from-radio-signals/Project/image6.png\n",
      "/kaggle/input/classifying-seti-data-from-radio-signals/Project/utils.py\n",
      "/kaggle/input/classifying-seti-data-from-radio-signals/Project/Untitled-design.png\n",
      "/kaggle/input/classifying-seti-data-from-radio-signals/Project/train.csv\n",
      "/kaggle/input/classifying-seti-data-from-radio-signals/Project/sparse_image_warp.py\n"
     ]
    }
   ],
   "source": [
    "# This Python 3 environment comes with many helpful analytics libraries installed\n",
    "# It is defined by the kaggle/python Docker image: https://github.com/kaggle/docker-python\n",
    "# For example, here's several helpful packages to load\n",
    "\n",
    "import numpy as np # linear algebra\n",
    "import pandas as pd # data processing, CSV file I/O (e.g. pd.read_csv)\n",
    "\n",
    "# Input data files are available in the read-only \"../input/\" directory\n",
    "# For example, running this (by clicking run or pressing Shift+Enter) will list all files under the input directory\n",
    "\n",
    "import os\n",
    "for dirname, _, filenames in os.walk('/kaggle/input'):\n",
    "    for filename in filenames:\n",
    "        print(os.path.join(dirname, filename))\n",
    "\n",
    "# You can write up to 20GB to the current directory (/kaggle/working/) that gets preserved as output when you create a version using \"Save & Run All\" \n",
    "# You can also write temporary files to /kaggle/temp/, but they won't be saved outside of the current session"
   ]
  },
  {
   "cell_type": "markdown",
   "id": "f8a4d82e",
   "metadata": {
    "papermill": {
     "duration": 0.002594,
     "end_time": "2023-08-16T01:29:10.120211",
     "exception": false,
     "start_time": "2023-08-16T01:29:10.117617",
     "status": "completed"
    },
    "tags": []
   },
   "source": [
    "# **Introdution**"
   ]
  },
  {
   "cell_type": "code",
   "execution_count": 2,
   "id": "c02f25fa",
   "metadata": {
    "execution": {
     "iopub.execute_input": "2023-08-16T01:29:10.127583Z",
     "iopub.status.busy": "2023-08-16T01:29:10.127138Z",
     "iopub.status.idle": "2023-08-16T01:29:16.415776Z",
     "shell.execute_reply": "2023-08-16T01:29:16.414295Z"
    },
    "papermill": {
     "duration": 6.297545,
     "end_time": "2023-08-16T01:29:16.420599",
     "exception": false,
     "start_time": "2023-08-16T01:29:10.123054",
     "status": "completed"
    },
    "tags": []
   },
   "outputs": [],
   "source": [
    "# Import necessary libraries\n",
    "import numpy as np\n",
    "import pandas as pd\n",
    "import matplotlib.pyplot as plt\n",
    "\n",
    "# Import PyTorch and related modules\n",
    "import torch\n",
    "from torch import nn, optim\n",
    "from torch.utils.data import Dataset, DataLoader\n",
    "\n",
    "# Import torchvision transformations\n",
    "from torchvision import transforms as T\n",
    "\n",
    "# Import a popular image model library\n",
    "import timm"
   ]
  },
  {
   "cell_type": "markdown",
   "id": "5ae3ce77",
   "metadata": {
    "papermill": {
     "duration": 0.002427,
     "end_time": "2023-08-16T01:29:16.426107",
     "exception": false,
     "start_time": "2023-08-16T01:29:16.423680",
     "status": "completed"
    },
    "tags": []
   },
   "source": [
    "# **First Image**"
   ]
  }
 ],
 "metadata": {
  "kernelspec": {
   "display_name": "Python 3",
   "language": "python",
   "name": "python3"
  },
  "language_info": {
   "codemirror_mode": {
    "name": "ipython",
    "version": 3
   },
   "file_extension": ".py",
   "mimetype": "text/x-python",
   "name": "python",
   "nbconvert_exporter": "python",
   "pygments_lexer": "ipython3",
   "version": "3.10.12"
  },
  "papermill": {
   "default_parameters": {},
   "duration": 22.909166,
   "end_time": "2023-08-16T01:29:18.806623",
   "environment_variables": {},
   "exception": null,
   "input_path": "__notebook__.ipynb",
   "output_path": "__notebook__.ipynb",
   "parameters": {},
   "start_time": "2023-08-16T01:28:55.897457",
   "version": "2.4.0"
  }
 },
 "nbformat": 4,
 "nbformat_minor": 5
}
